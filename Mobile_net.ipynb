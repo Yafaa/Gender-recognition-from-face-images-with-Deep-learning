{
  "nbformat": 4,
  "nbformat_minor": 0,
  "metadata": {
    "colab": {
      "name": "Syrine mobile net.ipynb",
      "provenance": []
    },
    "kernelspec": {
      "name": "python3",
      "display_name": "Python 3"
    },
    "language_info": {
      "name": "python"
    },
    "accelerator": "GPU"
  },
  "cells": [
    {
      "cell_type": "code",
      "metadata": {
        "colab": {
          "base_uri": "https://localhost:8080/"
        },
        "id": "i0PlzWIrrdrE",
        "outputId": "50eb7af9-d280-40d5-ecd3-6a3b96d767d9"
      },
      "source": [
        "from google.colab import drive\n",
        "drive.mount('/gdrive')"
      ],
      "execution_count": 1,
      "outputs": [
        {
          "output_type": "stream",
          "text": [
            "Mounted at /gdrive\n"
          ],
          "name": "stdout"
        }
      ]
    },
    {
      "cell_type": "code",
      "metadata": {
        "id": "fviQ3kRxm5ij"
      },
      "source": [
        "from tensorflow import keras\n",
        "from keras.layers import Convolution2D, MaxPooling2D, Flatten, Dense, BatchNormalization, Dropout\n",
        "from keras.models import Sequential\n",
        "# useful for building neural networks then interacting with\n",
        "\n",
        "import os\n",
        "# useful for manipulating folders and files\n",
        "\n",
        "import cv2\n",
        "from PIL import Image\n",
        "# to manipulate images\n",
        "\n",
        "import numpy as np\n",
        "np.random.seed(1000)# for results reproduceability\n",
        "# useful for manipulating matrix and multidimensional arrays\n",
        "\n",
        "import matplotlib.pyplot as plt\n",
        "# useful for plotting and showing  images\n",
        "\n",
        "\n",
        "# To download checkpoints, Keras models, TFLite models\n",
        "from google.colab import files\n",
        "\n",
        "# Life is incomplete without this statement!\n",
        "import tensorflow as tf\n",
        "\n",
        "\n",
        "import os\n",
        "import datetime\n",
        "\n",
        "from tensorflow.keras.applications import EfficientNetB0\n",
        "from tensorflow.keras.layers import GlobalAveragePooling2D\n",
        "\n",
        "from tensorflow.keras.layers.experimental import preprocessing\n",
        "from tensorflow.keras.models import Sequential\n",
        "from tensorflow.keras import layers\n",
        "\n",
        "import tensorflow as tf"
      ],
      "execution_count": 2,
      "outputs": []
    },
    {
      "cell_type": "code",
      "metadata": {
        "id": "pXK4DrejyZbv"
      },
      "source": [
        "image_directory = os.listdir('/gdrive/MyDrive/Data/UTKFace/') "
      ],
      "execution_count": 6,
      "outputs": []
    },
    {
      "cell_type": "code",
      "metadata": {
        "id": "8EoWG9URrmEP"
      },
      "source": [
        "image_path='/gdrive/MyDrive/DataSyrine/UTKFace/'\n",
        "\n",
        "SIZE = 224  # our neural nets expect input data of same format so we will use resize our images to (size x size) \n",
        "dataset = []  #Many ways to handle data, you can use pandas. Here, we are using a list format.  \n",
        "gender_label = []  #Place holders to define add labels. We will add 0 to all parasitized images and 1 to uninfected.\n",
        "age_label=[]"
      ],
      "execution_count": 4,
      "outputs": []
    },
    {
      "cell_type": "code",
      "metadata": {
        "id": "d20U3PQxtCbX",
        "colab": {
          "base_uri": "https://localhost:8080/",
          "height": 404
        },
        "outputId": "8a2fbf35-63be-4be7-b0e1-2686cc49c623"
      },
      "source": [
        "for i, image_name in enumerate(image_directory): \n",
        "\n",
        "  if (image_name.split('.')[1] == 'jpg') and i<12000:\n",
        "    image =  tf.keras.preprocessing.image.load_img(\n",
        "      image_path + image_name, grayscale=False, color_mode='rgb', target_size=(SIZE,SIZE))\n",
        "    input_arr = keras.preprocessing.image.img_to_array(image)\n",
        "    dataset.append(input_arr)\n",
        "    gender_label.append(image_name.split('_')[1]) \n"
      ],
      "execution_count": 7,
      "outputs": [
        {
          "output_type": "error",
          "ename": "KeyboardInterrupt",
          "evalue": "ignored",
          "traceback": [
            "\u001b[0;31m---------------------------------------------------------------------------\u001b[0m",
            "\u001b[0;31mKeyboardInterrupt\u001b[0m                         Traceback (most recent call last)",
            "\u001b[0;32m<ipython-input-7-a5736c10aa71>\u001b[0m in \u001b[0;36m<module>\u001b[0;34m()\u001b[0m\n\u001b[1;32m      3\u001b[0m   \u001b[0;32mif\u001b[0m \u001b[0;34m(\u001b[0m\u001b[0mimage_name\u001b[0m\u001b[0;34m.\u001b[0m\u001b[0msplit\u001b[0m\u001b[0;34m(\u001b[0m\u001b[0;34m'.'\u001b[0m\u001b[0;34m)\u001b[0m\u001b[0;34m[\u001b[0m\u001b[0;36m1\u001b[0m\u001b[0;34m]\u001b[0m \u001b[0;34m==\u001b[0m \u001b[0;34m'jpg'\u001b[0m\u001b[0;34m)\u001b[0m \u001b[0;32mand\u001b[0m \u001b[0mi\u001b[0m\u001b[0;34m<\u001b[0m\u001b[0;36m12000\u001b[0m\u001b[0;34m:\u001b[0m\u001b[0;34m\u001b[0m\u001b[0;34m\u001b[0m\u001b[0m\n\u001b[1;32m      4\u001b[0m     image =  tf.keras.preprocessing.image.load_img(\n\u001b[0;32m----> 5\u001b[0;31m       image_path + image_name, grayscale=False, color_mode='rgb', target_size=(SIZE,SIZE))\n\u001b[0m\u001b[1;32m      6\u001b[0m     \u001b[0minput_arr\u001b[0m \u001b[0;34m=\u001b[0m \u001b[0mkeras\u001b[0m\u001b[0;34m.\u001b[0m\u001b[0mpreprocessing\u001b[0m\u001b[0;34m.\u001b[0m\u001b[0mimage\u001b[0m\u001b[0;34m.\u001b[0m\u001b[0mimg_to_array\u001b[0m\u001b[0;34m(\u001b[0m\u001b[0mimage\u001b[0m\u001b[0;34m)\u001b[0m\u001b[0;34m\u001b[0m\u001b[0;34m\u001b[0m\u001b[0m\n\u001b[1;32m      7\u001b[0m     \u001b[0mdataset\u001b[0m\u001b[0;34m.\u001b[0m\u001b[0mappend\u001b[0m\u001b[0;34m(\u001b[0m\u001b[0minput_arr\u001b[0m\u001b[0;34m)\u001b[0m\u001b[0;34m\u001b[0m\u001b[0;34m\u001b[0m\u001b[0m\n",
            "\u001b[0;32m/usr/local/lib/python3.7/dist-packages/tensorflow/python/keras/preprocessing/image.py\u001b[0m in \u001b[0;36mload_img\u001b[0;34m(path, grayscale, color_mode, target_size, interpolation)\u001b[0m\n\u001b[1;32m    294\u001b[0m   \"\"\"\n\u001b[1;32m    295\u001b[0m   return image.load_img(path, grayscale=grayscale, color_mode=color_mode,\n\u001b[0;32m--> 296\u001b[0;31m                         target_size=target_size, interpolation=interpolation)\n\u001b[0m\u001b[1;32m    297\u001b[0m \u001b[0;34m\u001b[0m\u001b[0m\n\u001b[1;32m    298\u001b[0m \u001b[0;34m\u001b[0m\u001b[0m\n",
            "\u001b[0;32m/usr/local/lib/python3.7/dist-packages/keras_preprocessing/image/utils.py\u001b[0m in \u001b[0;36mload_img\u001b[0;34m(path, grayscale, color_mode, target_size, interpolation)\u001b[0m\n\u001b[1;32m    112\u001b[0m                           'The use of `load_img` requires PIL.')\n\u001b[1;32m    113\u001b[0m     \u001b[0;32mwith\u001b[0m \u001b[0mopen\u001b[0m\u001b[0;34m(\u001b[0m\u001b[0mpath\u001b[0m\u001b[0;34m,\u001b[0m \u001b[0;34m'rb'\u001b[0m\u001b[0;34m)\u001b[0m \u001b[0;32mas\u001b[0m \u001b[0mf\u001b[0m\u001b[0;34m:\u001b[0m\u001b[0;34m\u001b[0m\u001b[0;34m\u001b[0m\u001b[0m\n\u001b[0;32m--> 114\u001b[0;31m         \u001b[0mimg\u001b[0m \u001b[0;34m=\u001b[0m \u001b[0mpil_image\u001b[0m\u001b[0;34m.\u001b[0m\u001b[0mopen\u001b[0m\u001b[0;34m(\u001b[0m\u001b[0mio\u001b[0m\u001b[0;34m.\u001b[0m\u001b[0mBytesIO\u001b[0m\u001b[0;34m(\u001b[0m\u001b[0mf\u001b[0m\u001b[0;34m.\u001b[0m\u001b[0mread\u001b[0m\u001b[0;34m(\u001b[0m\u001b[0;34m)\u001b[0m\u001b[0;34m)\u001b[0m\u001b[0;34m)\u001b[0m\u001b[0;34m\u001b[0m\u001b[0;34m\u001b[0m\u001b[0m\n\u001b[0m\u001b[1;32m    115\u001b[0m         \u001b[0;32mif\u001b[0m \u001b[0mcolor_mode\u001b[0m \u001b[0;34m==\u001b[0m \u001b[0;34m'grayscale'\u001b[0m\u001b[0;34m:\u001b[0m\u001b[0;34m\u001b[0m\u001b[0;34m\u001b[0m\u001b[0m\n\u001b[1;32m    116\u001b[0m             \u001b[0;31m# if image is not already an 8-bit, 16-bit or 32-bit grayscale image\u001b[0m\u001b[0;34m\u001b[0m\u001b[0;34m\u001b[0m\u001b[0;34m\u001b[0m\u001b[0m\n",
            "\u001b[0;31mKeyboardInterrupt\u001b[0m: "
          ]
        }
      ]
    },
    {
      "cell_type": "code",
      "metadata": {
        "colab": {
          "base_uri": "https://localhost:8080/"
        },
        "id": "biOzdV2F0jc-",
        "outputId": "3d42188c-a39b-4964-a8a4-35db784728e3"
      },
      "source": [
        "len(gender_label)"
      ],
      "execution_count": 8,
      "outputs": [
        {
          "output_type": "execute_result",
          "data": {
            "text/plain": [
              "6200"
            ]
          },
          "metadata": {
            "tags": []
          },
          "execution_count": 8
        }
      ]
    },
    {
      "cell_type": "code",
      "metadata": {
        "colab": {
          "base_uri": "https://localhost:8080/"
        },
        "id": "Tor8z8CW0mP1",
        "outputId": "57fc33ed-49b9-4fd4-911e-2404d85dd520"
      },
      "source": [
        "len(dataset)"
      ],
      "execution_count": 9,
      "outputs": [
        {
          "output_type": "execute_result",
          "data": {
            "text/plain": [
              "6200"
            ]
          },
          "metadata": {
            "tags": []
          },
          "execution_count": 9
        }
      ]
    },
    {
      "cell_type": "code",
      "metadata": {
        "id": "BSziIyaEuHpr",
        "colab": {
          "base_uri": "https://localhost:8080/"
        },
        "outputId": "6f91f271-6b13-4354-d8c5-3f4efa610010"
      },
      "source": [
        "dataset[0].shape"
      ],
      "execution_count": 10,
      "outputs": [
        {
          "output_type": "execute_result",
          "data": {
            "text/plain": [
              "(224, 224, 3)"
            ]
          },
          "metadata": {
            "tags": []
          },
          "execution_count": 10
        }
      ]
    },
    {
      "cell_type": "code",
      "metadata": {
        "colab": {
          "base_uri": "https://localhost:8080/"
        },
        "id": "198Qluokrsj0",
        "outputId": "84fe6cdd-3a0f-4e60-8a25-0fc3f9ea8c26"
      },
      "source": [
        "dataset[0][30,30] #pixel x=30 , y=30 R G B "
      ],
      "execution_count": 11,
      "outputs": [
        {
          "output_type": "execute_result",
          "data": {
            "text/plain": [
              "array([176., 110.,  76.], dtype=float32)"
            ]
          },
          "metadata": {
            "tags": []
          },
          "execution_count": 11
        }
      ]
    },
    {
      "cell_type": "code",
      "metadata": {
        "colab": {
          "base_uri": "https://localhost:8080/",
          "height": 36
        },
        "id": "o0S1-h4FuyGk",
        "outputId": "81bd1a80-1eb3-4c90-eea7-f648c09fde82"
      },
      "source": [
        "gender_label[0]"
      ],
      "execution_count": 12,
      "outputs": [
        {
          "output_type": "execute_result",
          "data": {
            "application/vnd.google.colaboratory.intrinsic+json": {
              "type": "string"
            },
            "text/plain": [
              "'0'"
            ]
          },
          "metadata": {
            "tags": []
          },
          "execution_count": 12
        }
      ]
    },
    {
      "cell_type": "code",
      "metadata": {
        "id": "uVnDPp2fw8Z4"
      },
      "source": [
        "NUM_CLASSES=2"
      ],
      "execution_count": 13,
      "outputs": []
    },
    {
      "cell_type": "code",
      "metadata": {
        "id": "Qt5Jmsh404Hs"
      },
      "source": [
        "IMG_SIZE=224"
      ],
      "execution_count": 14,
      "outputs": []
    },
    {
      "cell_type": "code",
      "metadata": {
        "colab": {
          "base_uri": "https://localhost:8080/"
        },
        "id": "4adbnft7E6zD",
        "outputId": "126817a3-0455-412a-854c-59a214b61de3"
      },
      "source": [
        "# Garbage Collector - use it like gc.collect()\n",
        "import gc\n",
        "\n",
        "\n",
        "gc.collect()"
      ],
      "execution_count": 15,
      "outputs": [
        {
          "output_type": "execute_result",
          "data": {
            "text/plain": [
              "787"
            ]
          },
          "metadata": {
            "tags": []
          },
          "execution_count": 15
        }
      ]
    },
    {
      "cell_type": "code",
      "metadata": {
        "colab": {
          "base_uri": "https://localhost:8080/"
        },
        "id": "6vRkv_wZG9hx",
        "outputId": "cda1cf13-c43e-4339-8b4d-f6b536dd7184"
      },
      "source": [
        "NUM_CLASSES"
      ],
      "execution_count": 16,
      "outputs": [
        {
          "output_type": "execute_result",
          "data": {
            "text/plain": [
              "2"
            ]
          },
          "metadata": {
            "tags": []
          },
          "execution_count": 16
        }
      ]
    },
    {
      "cell_type": "code",
      "metadata": {
        "colab": {
          "base_uri": "https://localhost:8080/"
        },
        "id": "rusqOqeMYCkE",
        "outputId": "ff11ec01-5a16-42e4-b046-a4352113a067"
      },
      "source": [
        "preprocess_input = tf.keras.applications.mobilenet_v2.preprocess_input\n",
        "base_model = tf.keras.applications.MobileNetV2(input_shape=(IMG_SIZE, IMG_SIZE, 3),\n",
        "                                               include_top=False,\n",
        "                                               weights='imagenet')\n",
        "\n",
        "base_model.trainable = True\n",
        "\n",
        "# Let's take a look to see how many layers are in the base model\n",
        "print(\"Number of layers in the base model: \", len(base_model.layers))\n",
        "\n",
        "# Fine-tune from this layer onwards\n",
        "fine_tune_at = 70\n",
        "\n",
        "# Freeze all the layers before the `fine_tune_at` layer\n",
        "for layer in base_model.layers[:fine_tune_at]:\n",
        "  layer.trainable =  False\n",
        "\n",
        "global_average_layer = tf.keras.layers.GlobalAveragePooling2D()\n",
        "prediction_layer = tf.keras.layers.Dense(2)\n"
      ],
      "execution_count": 19,
      "outputs": [
        {
          "output_type": "stream",
          "text": [
            "Number of layers in the base model:  154\n"
          ],
          "name": "stdout"
        }
      ]
    },
    {
      "cell_type": "code",
      "metadata": {
        "id": "N_nQT_j2ZbS2"
      },
      "source": [
        "inputs = tf.keras.Input(shape=(IMG_SIZE, IMG_SIZE, 3))\n",
        "x = preprocess_input(inputs)\n",
        "x = base_model(x, training=False)\n",
        "x = global_average_layer(x)\n",
        "x = tf.keras.layers.Dropout(0.2)(x)\n",
        "outputs = prediction_layer(x)\n",
        "model = tf.keras.Model(inputs, outputs)\n",
        "tf.keras.utils.plot_model(model)\n",
        "base_learning_rate = 0.0001"
      ],
      "execution_count": 20,
      "outputs": []
    },
    {
      "cell_type": "code",
      "metadata": {
        "colab": {
          "base_uri": "https://localhost:8080/"
        },
        "id": "YGQNNeV7ZcJe",
        "outputId": "f0a478f3-c0bf-4ec9-eaeb-d336c00215b1"
      },
      "source": [
        "model.compile(loss=tf.keras.losses.BinaryCrossentropy(from_logits=True),\n",
        "              optimizer = tf.keras.optimizers.RMSprop(lr=base_learning_rate/10),\n",
        "              metrics=['accuracy'])"
      ],
      "execution_count": 21,
      "outputs": [
        {
          "output_type": "stream",
          "text": [
            "/usr/local/lib/python3.7/dist-packages/tensorflow/python/keras/optimizer_v2/optimizer_v2.py:375: UserWarning: The `lr` argument is deprecated, use `learning_rate` instead.\n",
            "  \"The `lr` argument is deprecated, use `learning_rate` instead.\")\n"
          ],
          "name": "stderr"
        }
      ]
    },
    {
      "cell_type": "code",
      "metadata": {
        "colab": {
          "base_uri": "https://localhost:8080/",
          "height": 661
        },
        "id": "sXvk4jZzZjAD",
        "outputId": "6fee751c-294c-4070-f5a6-c960919d84d9"
      },
      "source": [
        "tf.keras.utils.plot_model(model)"
      ],
      "execution_count": 22,
      "outputs": [
        {
          "output_type": "execute_result",
          "data": {
            "image/png": "[encoded data removed]",
            "text/plain": [
              "<IPython.core.display.Image object>"
            ]
          },
          "metadata": {
            "tags": []
          },
          "execution_count": 22
        }
      ]
    },
    {
      "cell_type": "code",
      "metadata": {
        "id": "KxSOhOvA4xHt",
        "colab": {
          "base_uri": "https://localhost:8080/"
        },
        "outputId": "b4705b66-890c-4144-eaa4-8922450ad56c"
      },
      "source": [
        "type(dataset[0])"
      ],
      "execution_count": 23,
      "outputs": [
        {
          "output_type": "execute_result",
          "data": {
            "text/plain": [
              "numpy.ndarray"
            ]
          },
          "metadata": {
            "tags": []
          },
          "execution_count": 23
        }
      ]
    },
    {
      "cell_type": "code",
      "metadata": {
        "id": "xljKAmWW40c6",
        "colab": {
          "base_uri": "https://localhost:8080/"
        },
        "outputId": "0b7f38b0-720a-4cbd-e2cb-47d3cb7c5ab3"
      },
      "source": [
        "type(gender_label)"
      ],
      "execution_count": 24,
      "outputs": [
        {
          "output_type": "execute_result",
          "data": {
            "text/plain": [
              "list"
            ]
          },
          "metadata": {
            "tags": []
          },
          "execution_count": 24
        }
      ]
    },
    {
      "cell_type": "code",
      "metadata": {
        "id": "4tu7DWFN5Dqz"
      },
      "source": [
        "label=[]\n",
        "for i in gender_label:\n",
        "  label.append(int(i))"
      ],
      "execution_count": 25,
      "outputs": []
    },
    {
      "cell_type": "code",
      "metadata": {
        "id": "KR9finft5IdY",
        "colab": {
          "base_uri": "https://localhost:8080/"
        },
        "outputId": "f1969974-9fd7-439d-bc42-aea96375ac3e"
      },
      "source": [
        "label[0]"
      ],
      "execution_count": 26,
      "outputs": [
        {
          "output_type": "execute_result",
          "data": {
            "text/plain": [
              "0"
            ]
          },
          "metadata": {
            "tags": []
          },
          "execution_count": 26
        }
      ]
    },
    {
      "cell_type": "code",
      "metadata": {
        "id": "Z2y-Ep685Zq7"
      },
      "source": [
        "from sklearn.model_selection import train_test_split\n",
        "from tensorflow.keras.utils import to_categorical # transforms labels from a number to 1-D array of 0s and 1s \n",
        "\n",
        "# we will split our **dataset** and its corresponding labels to two parts:\n",
        "#80% will be used to train our model, and 20% will be used to test how good our trained model is. \n",
        "#X_train, X_test, y_train, y_test = train_test_split(dataset, to_categorical(np.array(gender_label)), test_size = 0.20, random_state = 0)\n",
        "X_train, X_test, y_train, y_test = train_test_split(dataset, label, test_size = 0.20, random_state = 0)"
      ],
      "execution_count": 27,
      "outputs": []
    },
    {
      "cell_type": "code",
      "metadata": {
        "id": "s8omeUSPGiE6"
      },
      "source": [
        "y_train = keras.utils.to_categorical(y_train)"
      ],
      "execution_count": 28,
      "outputs": []
    },
    {
      "cell_type": "code",
      "metadata": {
        "id": "QGsfbHSAsAMQ",
        "colab": {
          "base_uri": "https://localhost:8080/"
        },
        "outputId": "9b51489d-217d-4d60-e483-8b6b0d324803"
      },
      "source": [
        "initial_epochs = 10\n",
        "\n",
        "fine_tune_epochs = 10\n",
        "#total_epochs =  initial_epochs + fine_tune_epochs \n",
        "total_epochs =20 # @param {type: \"slider\", min:10, max:100}\n",
        "\n",
        "history_fine = model.fit(np.array(X_train),np.array(y_train), epochs=total_epochs,  validation_split = 0.2, verbose=2,batch_size=30)"
      ],
      "execution_count": 31,
      "outputs": [
        {
          "output_type": "stream",
          "text": [
            "Epoch 1/20\n",
            "133/133 - 47s - loss: 0.4569 - accuracy: 0.7976 - val_loss: 0.3645 - val_accuracy: 0.8468\n",
            "Epoch 2/20\n",
            "133/133 - 9s - loss: 0.3041 - accuracy: 0.8778 - val_loss: 0.2955 - val_accuracy: 0.8639\n",
            "Epoch 3/20\n",
            "133/133 - 9s - loss: 0.2545 - accuracy: 0.8984 - val_loss: 0.2446 - val_accuracy: 0.8992\n",
            "Epoch 4/20\n",
            "133/133 - 10s - loss: 0.2117 - accuracy: 0.9183 - val_loss: 0.3740 - val_accuracy: 0.8306\n",
            "Epoch 5/20\n",
            "133/133 - 10s - loss: 0.1831 - accuracy: 0.9284 - val_loss: 0.2171 - val_accuracy: 0.9103\n",
            "Epoch 6/20\n",
            "133/133 - 10s - loss: 0.1634 - accuracy: 0.9403 - val_loss: 0.2146 - val_accuracy: 0.9173\n",
            "Epoch 7/20\n",
            "133/133 - 10s - loss: 0.1377 - accuracy: 0.9536 - val_loss: 0.2770 - val_accuracy: 0.8881\n",
            "Epoch 8/20\n",
            "133/133 - 10s - loss: 0.1207 - accuracy: 0.9549 - val_loss: 0.2074 - val_accuracy: 0.9204\n",
            "Epoch 9/20\n",
            "133/133 - 10s - loss: 0.0994 - accuracy: 0.9640 - val_loss: 0.2702 - val_accuracy: 0.9083\n",
            "Epoch 10/20\n",
            "133/133 - 10s - loss: 0.0891 - accuracy: 0.9700 - val_loss: 0.5366 - val_accuracy: 0.8196\n",
            "Epoch 11/20\n",
            "133/133 - 10s - loss: 0.0718 - accuracy: 0.9783 - val_loss: 0.2266 - val_accuracy: 0.9194\n",
            "Epoch 12/20\n",
            "133/133 - 11s - loss: 0.0626 - accuracy: 0.9798 - val_loss: 0.2529 - val_accuracy: 0.9234\n",
            "Epoch 13/20\n",
            "133/133 - 10s - loss: 0.0557 - accuracy: 0.9826 - val_loss: 0.2329 - val_accuracy: 0.9274\n",
            "Epoch 14/20\n",
            "133/133 - 10s - loss: 0.0428 - accuracy: 0.9871 - val_loss: 0.3496 - val_accuracy: 0.8992\n",
            "Epoch 15/20\n",
            "133/133 - 10s - loss: 0.0397 - accuracy: 0.9897 - val_loss: 0.2836 - val_accuracy: 0.9153\n",
            "Epoch 16/20\n",
            "133/133 - 10s - loss: 0.0278 - accuracy: 0.9914 - val_loss: 0.2616 - val_accuracy: 0.9234\n",
            "Epoch 17/20\n",
            "133/133 - 10s - loss: 0.0276 - accuracy: 0.9927 - val_loss: 0.5165 - val_accuracy: 0.8679\n",
            "Epoch 18/20\n",
            "133/133 - 10s - loss: 0.0200 - accuracy: 0.9945 - val_loss: 0.7719 - val_accuracy: 0.8337\n",
            "Epoch 19/20\n",
            "133/133 - 10s - loss: 0.0196 - accuracy: 0.9947 - val_loss: 0.2921 - val_accuracy: 0.9254\n",
            "Epoch 20/20\n",
            "133/133 - 10s - loss: 0.0170 - accuracy: 0.9937 - val_loss: 0.2787 - val_accuracy: 0.9274\n"
          ],
          "name": "stdout"
        }
      ]
    },
    {
      "cell_type": "code",
      "metadata": {
        "id": "BDSCwDPHGTp_"
      },
      "source": [
        "#model.save(\"/gdrive/MyDrive/DataSyrine\")"
      ],
      "execution_count": null,
      "outputs": []
    },
    {
      "cell_type": "code",
      "metadata": {
        "id": "Csvf34rHWYOY"
      },
      "source": [
        "acc = history_fine.history['accuracy']\n",
        "val_acc = history_fine.history['val_accuracy']\n",
        "\n",
        "loss = history_fine.history['loss']\n",
        "val_loss = history_fine.history['val_loss']\n"
      ],
      "execution_count": 33,
      "outputs": []
    },
    {
      "cell_type": "code",
      "metadata": {
        "colab": {
          "base_uri": "https://localhost:8080/",
          "height": 513
        },
        "id": "rB3VnJRmaOWT",
        "outputId": "ce6a90f7-7c38-4459-b7b6-5360cd5fdf73"
      },
      "source": [
        "plt.figure(figsize=(8, 8))\n",
        "plt.subplot(2, 1, 1)\n",
        "plt.plot(acc, label='Training Accuracy')\n",
        "plt.plot(val_acc, label='Validation Accuracy')\n",
        "plt.ylim([0.8, 1])\n",
        "plt.plot([initial_epochs-1,initial_epochs-1],\n",
        "          plt.ylim(), label='Start Fine Tuning')\n",
        "plt.legend(loc='lower right')\n",
        "plt.title('Training and Validation Accuracy')\n",
        "\n",
        "plt.subplot(2, 1, 2)\n",
        "plt.plot(loss, label='Training Loss')\n",
        "plt.plot(val_loss, label='Validation Loss')\n",
        "plt.ylim([0, 1.0])\n",
        "plt.plot([initial_epochs-1,initial_epochs-1],\n",
        "         plt.ylim(), label='Start Fine Tuning')\n",
        "plt.legend(loc='upper right')\n",
        "plt.title('Training and Validation Loss')\n",
        "plt.xlabel('epoch')\n",
        "plt.show()\n"
      ],
      "execution_count": 34,
      "outputs": [
        {
          "output_type": "display_data",
          "data": {
            "image/png": "[encoded data removed]",
            "text/plain": [
              "<Figure size 576x576 with 2 Axes>"
            ]
          },
          "metadata": {
            "tags": [],
            "needs_background": "light"
          }
        }
      ]
    },
    {
      "cell_type": "code",
      "metadata": {
        "colab": {
          "base_uri": "https://localhost:8080/"
        },
        "id": "6b1XuE6OcfzL",
        "outputId": "2baea763-805a-4c66-87ef-a2ea961d36dd"
      },
      "source": [
        " len(X_test)"
      ],
      "execution_count": 38,
      "outputs": [
        {
          "output_type": "execute_result",
          "data": {
            "text/plain": [
              "1240"
            ]
          },
          "metadata": {
            "tags": []
          },
          "execution_count": 38
        }
      ]
    },
    {
      "cell_type": "code",
      "metadata": {
        "id": "XcS5I0IQd7qz"
      },
      "source": [
        "y_test = keras.utils.to_categorical(y_test)"
      ],
      "execution_count": 49,
      "outputs": []
    },
    {
      "cell_type": "code",
      "metadata": {
        "colab": {
          "base_uri": "https://localhost:8080/"
        },
        "id": "gCOn7-i5dq_T",
        "outputId": "0c66a58c-75d2-4f14-8380-9046ea529a1b"
      },
      "source": [
        "loss, accuracy = model.evaluate(np.array(X_test),np.array(y_test),verbose=2,batch_size=30)"
      ],
      "execution_count": 50,
      "outputs": [
        {
          "output_type": "stream",
          "text": [
            "42/42 - 2s - loss: 0.2965 - accuracy: 0.9137\n"
          ],
          "name": "stdout"
        }
      ]
    }
  ]
}